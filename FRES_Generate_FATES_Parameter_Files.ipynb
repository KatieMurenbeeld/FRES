{
 "cells": [
  {
   "cell_type": "markdown",
   "metadata": {},
   "source": [
    "### Title\n",
    "\n",
    "#### Project: FRES\n",
    "#### Author: Katie Murenbeeld\n",
    "#### Date: 30 June 2022\n",
    "#### Description: \n",
    "**Work on description** This notebook works through a basic example of generating a dataframe with updated FATES parameter values for four root parameters of a single plant function type (PFT) and then generates a set of parameter files for testing or running multi-instance FATES simulations."
   ]
  },
  {
   "cell_type": "code",
   "execution_count": 1,
   "metadata": {},
   "outputs": [],
   "source": [
    "### To create and analyze (if needed) a dataframe of potential parameter values.\n",
    "import pandas as pd\n",
    "import numpy as np\n",
    "import sys\n",
    "import seaborn as sns\n",
    "import matplotlib.pyplot as plt\n",
    "from IPython.display import Image\n",
    "import csv\n",
    "\n",
    "sns.set_context(\"notebook\", font_scale=1.75, rc={\"lines.linewidth\": 2.5, \"lines.markersize\": 6.0, 'lines.markeredgewidth': 1.0})\n",
    "\n",
    "### For generating the .nc files\n",
    "import netCDF4 as nc4\n",
    "import sys\n",
    "import os\n",
    "import shutil"
   ]
  },
  {
   "cell_type": "markdown",
   "metadata": {},
   "source": [
    "For this example we will be working with:\n",
    "1. The default fates parameter file for a single plant functional type (PFT). Here the broadleaf_evergreen_extratrop_shrub\n",
    "2. Only updating: \n",
    "    * fates_allom_zroot_max_z - the maximum rooting depth defined at dbh = fates_allom_zroot_max_dbh. note: max_z=min_z=large, sets rooting depth to soil depth\n",
    "\n",
    "    * fates_allom_l2fr - allocation paramter: fine root C per leaf C\n",
    "\n",
    "    * the fates_allom_fnrt_prof_a and  fates_allom_fnrt_prof_b parameters - fine root profile parameters.\n",
    "3. Generate 10 parameter files with different values for each of the listed parameters \n",
    "\n",
    "In reality you will likely be working from slightly modified parameter file that is calibrated for the specific point or region. Additionally, you may also want multiple PFTs, for example grass and shrubs or shrubs and trees. I will include notes at the end for how to update parameter files with more than 1 PFT. "
   ]
  },
  {
   "cell_type": "code",
   "execution_count": 2,
   "metadata": {},
   "outputs": [],
   "source": [
    "## 1. Generate a data frame with columns named for the updated parameters \n",
    "## Depending on the set of experiments there may be other ways to set this value. \n",
    "## For example, randomly sampling from a normal or other type of distribution. \n",
    "\n",
    "root_z_max = pd.Series(np.arange(1,11,1))\n",
    "l2fr = pd.Series(np.arange(0.1, 1.1, 0.1))\n",
    "fnrt_prof_a = pd.Series(np.arange(5, 7, 0.2))\n",
    "fnrt_prof_b = pd.Series(np.arange(1, 2, 0.1))\n",
    "\n",
    "column_names = ['root_depth','l2fr','fnrt_prof_a', 'fnrt_prof_b']"
   ]
  },
  {
   "cell_type": "code",
   "execution_count": 50,
   "metadata": {},
   "outputs": [
    {
     "data": {
      "text/html": [
       "<div>\n",
       "<style scoped>\n",
       "    .dataframe tbody tr th:only-of-type {\n",
       "        vertical-align: middle;\n",
       "    }\n",
       "\n",
       "    .dataframe tbody tr th {\n",
       "        vertical-align: top;\n",
       "    }\n",
       "\n",
       "    .dataframe thead th {\n",
       "        text-align: right;\n",
       "    }\n",
       "</style>\n",
       "<table border=\"1\" class=\"dataframe\">\n",
       "  <thead>\n",
       "    <tr style=\"text-align: right;\">\n",
       "      <th></th>\n",
       "      <th>root_depth</th>\n",
       "      <th>l2fr</th>\n",
       "      <th>fnrt_prof_a</th>\n",
       "      <th>fnrt_prof_b</th>\n",
       "    </tr>\n",
       "  </thead>\n",
       "  <tbody>\n",
       "    <tr>\n",
       "      <th>0</th>\n",
       "      <td>1</td>\n",
       "      <td>0.1</td>\n",
       "      <td>5.0</td>\n",
       "      <td>1.0</td>\n",
       "    </tr>\n",
       "    <tr>\n",
       "      <th>1</th>\n",
       "      <td>2</td>\n",
       "      <td>0.2</td>\n",
       "      <td>5.2</td>\n",
       "      <td>1.1</td>\n",
       "    </tr>\n",
       "    <tr>\n",
       "      <th>2</th>\n",
       "      <td>3</td>\n",
       "      <td>0.3</td>\n",
       "      <td>5.4</td>\n",
       "      <td>1.2</td>\n",
       "    </tr>\n",
       "    <tr>\n",
       "      <th>3</th>\n",
       "      <td>4</td>\n",
       "      <td>0.4</td>\n",
       "      <td>5.6</td>\n",
       "      <td>1.3</td>\n",
       "    </tr>\n",
       "    <tr>\n",
       "      <th>4</th>\n",
       "      <td>5</td>\n",
       "      <td>0.5</td>\n",
       "      <td>5.8</td>\n",
       "      <td>1.4</td>\n",
       "    </tr>\n",
       "    <tr>\n",
       "      <th>5</th>\n",
       "      <td>6</td>\n",
       "      <td>0.6</td>\n",
       "      <td>6.0</td>\n",
       "      <td>1.5</td>\n",
       "    </tr>\n",
       "    <tr>\n",
       "      <th>6</th>\n",
       "      <td>7</td>\n",
       "      <td>0.7</td>\n",
       "      <td>6.2</td>\n",
       "      <td>1.6</td>\n",
       "    </tr>\n",
       "    <tr>\n",
       "      <th>7</th>\n",
       "      <td>8</td>\n",
       "      <td>0.8</td>\n",
       "      <td>6.4</td>\n",
       "      <td>1.7</td>\n",
       "    </tr>\n",
       "    <tr>\n",
       "      <th>8</th>\n",
       "      <td>9</td>\n",
       "      <td>0.9</td>\n",
       "      <td>6.6</td>\n",
       "      <td>1.8</td>\n",
       "    </tr>\n",
       "    <tr>\n",
       "      <th>9</th>\n",
       "      <td>10</td>\n",
       "      <td>1.0</td>\n",
       "      <td>6.8</td>\n",
       "      <td>1.9</td>\n",
       "    </tr>\n",
       "  </tbody>\n",
       "</table>\n",
       "</div>"
      ],
      "text/plain": [
       "   root_depth  l2fr  fnrt_prof_a  fnrt_prof_b\n",
       "0           1   0.1          5.0          1.0\n",
       "1           2   0.2          5.2          1.1\n",
       "2           3   0.3          5.4          1.2\n",
       "3           4   0.4          5.6          1.3\n",
       "4           5   0.5          5.8          1.4\n",
       "5           6   0.6          6.0          1.5\n",
       "6           7   0.7          6.2          1.6\n",
       "7           8   0.8          6.4          1.7\n",
       "8           9   0.9          6.6          1.8\n",
       "9          10   1.0          6.8          1.9"
      ]
     },
     "execution_count": 50,
     "metadata": {},
     "output_type": "execute_result"
    }
   ],
   "source": [
    "df_tmp = pd.concat([root_z_max, l2fr, fnrt_prof_a, fnrt_prof_b], axis=1)\n",
    "df_tmp.columns = column_names\n",
    "df_tmp\n"
   ]
  },
  {
   "cell_type": "code",
   "execution_count": 1,
   "metadata": {},
   "outputs": [],
   "source": [
    "## 2. Create 10 new parameter files with the new parameter values \n",
    "\n",
    "# Set the file template. In this case a parameter file with only the default values for the shrub PFT.\n",
    "# If you decide to have multiple PFTs make sure the template is correct.\n",
    "# Note: The parameter file here is on my local. I used Globus to transfer the original file and to \n",
    "# uplaod the new parameter files. \n",
    "\n",
    "filename_template = '/Users/kathrynmurenbeeld/CODING/FRES/DATA/fates_US-Rms_shrub.nc'\n",
    "filename_output_basename = 'param_file_fates_US-Rms_shrub_exp1_'\n",
    "\n",
    "# Set the index value for each parameter\n",
    "# Because we are only updating 4 parameters this may not be necessary\n",
    "rootdepth_indx = 0\n",
    "l2fr_indx = 1\n",
    "fnrtprofa_indx = 2\n",
    "fnrtprofb_indx = 3"
   ]
  },
  {
   "cell_type": "code",
   "execution_count": 8,
   "metadata": {},
   "outputs": [
    {
     "name": "stdout",
     "output_type": "stream",
     "text": [
      "(10, 4)\n"
     ]
    }
   ],
   "source": [
    "print(df_tmp.shape)\n",
    "\n",
    "## This function will print out whether the new file as named already exists and will be over written \n",
    "## and if the file does not yet exist and will be created.\n",
    "\n",
    "def copy_clobber(filename1, filename2):\n",
    "    try:\n",
    "        os.remove(filename2)\n",
    "        print('replacing file: '+filename2)\n",
    "    except:\n",
    "        print('file does not yet exist, creating: '+filename2)\n",
    "    shutil.copyfile(filename1, filename2)"
   ]
  },
  {
   "cell_type": "code",
   "execution_count": 36,
   "metadata": {},
   "outputs": [
    {
     "name": "stdout",
     "output_type": "stream",
     "text": [
      "replacing file: param_file_fates_US-Rms_shrub_exp1_0001_c220630.nc\n",
      "replacing file: param_file_fates_US-Rms_shrub_exp1_0002_c220630.nc\n",
      "replacing file: param_file_fates_US-Rms_shrub_exp1_0003_c220630.nc\n",
      "replacing file: param_file_fates_US-Rms_shrub_exp1_0004_c220630.nc\n",
      "replacing file: param_file_fates_US-Rms_shrub_exp1_0005_c220630.nc\n",
      "replacing file: param_file_fates_US-Rms_shrub_exp1_0006_c220630.nc\n",
      "file does not yet exist: param_file_fates_US-Rms_shrub_exp1_0007_c220630.nc\n",
      "file does not yet exist: param_file_fates_US-Rms_shrub_exp1_0008_c220630.nc\n",
      "file does not yet exist: param_file_fates_US-Rms_shrub_exp1_0009_c220630.nc\n",
      "file does not yet exist: param_file_fates_US-Rms_shrub_exp1_0010_c220630.nc\n"
     ]
    }
   ],
   "source": [
    "for i in range(10): #shape or length of columns in dataframe. In this example 10\n",
    "    filename_out = filename_output_basename+str(i+1).zfill(4)+'_c220630.nc' #yymmdd\n",
    "    copy_clobber(filename_template,filename_out)\n",
    "    fin = nc4.Dataset(filename_out, 'r+')\n",
    "    \n",
    "    # Replace the default fates_turnover_fnrt value with a value from the dataframe.\n",
    "    rootdepthvar = fin.variables['fates_allom_zroot_max_z']\n",
    "    rootdepthvar[:] = df_tmp.iloc[i,rootdepth_indx].squeeze() # for 1 PFT\n",
    "    #rootlongvar[:] = df_tmp.iloc[i:(i+1),rootdepth_indx].squeeze() # for 2 PFTs\n",
    "    \n",
    "    # Replace the default fates_allom_l2fr value with a value from the dataframe.\n",
    "    l2frvar = fin.variables['fates_allom_l2fr'] \n",
    "    l2frvar[:] = df_tmp.iloc[i,l2fr_indx].squeeze() # for 1 PFT\n",
    "    #rootlongvar[:] = df_tmp.iloc[i:(i+1),l2fr_indx].squeeze() # for 2 PFTs\n",
    "    \n",
    "    fnrtprofavar = fin.variables['fates_fnrt_prof_a']\n",
    "    fnrtprofavar[:] = df_tmp.iloc[i,fnrtprofa_indx].squeeze() # for 1 PFT\n",
    "    #rootlongvar[:] = df_tmp.iloc[i:(i+1),fnrtprofa_indx].squeeze() # for 2 PFTs\n",
    "    \n",
    "    fnrtprofbvar = fin.variables['fates_fnrt_prof_b']\n",
    "    fnrtprofbvar[:] = df_tmp.iloc[i,fnrtprofb_indx].squeeze() # for 1 PFT\n",
    "    #rootlongvar[:] = df_tmp.iloc[i:(i+1),fnrtprofb_indx].squeeze() # for 2 PFTs\n",
    "    \n",
    "    fin.close()\n",
    "    "
   ]
  },
  {
   "cell_type": "code",
   "execution_count": 37,
   "metadata": {},
   "outputs": [],
   "source": [
    "## Optional. Double check that the parameter values did in fact update properly\n",
    "import xarray as xr"
   ]
  },
  {
   "cell_type": "code",
   "execution_count": 46,
   "metadata": {},
   "outputs": [],
   "source": [
    "# Open a few of the new parameter files\n",
    "ds1 = xr.open_mfdataset('param_file_fates_US-Rms_shrub_exp1_0001_c220630.nc', combine='by_coords')\n",
    "ds5 = xr.open_mfdataset('param_file_fates_US-Rms_shrub_exp1_0005_c220630.nc', combine='by_coords')\n",
    "ds10 = xr.open_mfdataset('param_file_fates_US-Rms_shrub_exp1_0010_c220630.nc', combine='by_coords')"
   ]
  },
  {
   "cell_type": "code",
   "execution_count": 47,
   "metadata": {},
   "outputs": [
    {
     "name": "stdout",
     "output_type": "stream",
     "text": [
      "[5.]\n",
      "[5.8]\n",
      "[6.8]\n"
     ]
    }
   ],
   "source": [
    "# Check the frnt_prof_a values (should match df_tmp)\n",
    "print(ds1.fates_fnrt_prof_a.values)\n",
    "print(ds5.fates_fnrt_prof_a.values)\n",
    "print(ds10.fates_fnrt_prof_a.values)"
   ]
  },
  {
   "cell_type": "code",
   "execution_count": 48,
   "metadata": {},
   "outputs": [
    {
     "name": "stdout",
     "output_type": "stream",
     "text": [
      "[1.]\n",
      "[5.]\n",
      "[10.]\n"
     ]
    }
   ],
   "source": [
    "# Check the zroot_max_z values (should match df_tmp)\n",
    "print(ds1.fates_allom_zroot_max_z.values)\n",
    "print(ds5.fates_allom_zroot_max_z.values)\n",
    "print(ds10.fates_allom_zroot_max_z.values)"
   ]
  },
  {
   "cell_type": "code",
   "execution_count": 49,
   "metadata": {},
   "outputs": [
    {
     "name": "stdout",
     "output_type": "stream",
     "text": [
      "[0.7]\n",
      "[0.7]\n",
      "[0.7]\n"
     ]
    }
   ],
   "source": [
    "# Check the wood_density values (should all be the same and be the set value in the original param file)\n",
    "print(ds1.fates_wood_density.values)\n",
    "print(ds5.fates_wood_density.values)\n",
    "print(ds10.fates_wood_density.values)"
   ]
  },
  {
   "cell_type": "code",
   "execution_count": null,
   "metadata": {},
   "outputs": [],
   "source": []
  }
 ],
 "metadata": {
  "kernelspec": {
   "display_name": "Python 3",
   "language": "python",
   "name": "python3"
  },
  "language_info": {
   "codemirror_mode": {
    "name": "ipython",
    "version": 3
   },
   "file_extension": ".py",
   "mimetype": "text/x-python",
   "name": "python",
   "nbconvert_exporter": "python",
   "pygments_lexer": "ipython3",
   "version": "3.7.6"
  }
 },
 "nbformat": 4,
 "nbformat_minor": 4
}
